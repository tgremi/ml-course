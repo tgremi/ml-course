{
 "cells": [
  {
   "cell_type": "code",
   "execution_count": 1,
   "metadata": {},
   "outputs": [],
   "source": [
    "%config IPCompleter.greedy=True"
   ]
  },
  {
   "cell_type": "code",
   "execution_count": 2,
   "metadata": {},
   "outputs": [],
   "source": [
    "import pandas as pd "
   ]
  },
  {
   "cell_type": "code",
   "execution_count": 3,
   "metadata": {},
   "outputs": [],
   "source": [
    "db = pd.read_csv('original.csv')"
   ]
  },
  {
   "cell_type": "code",
   "execution_count": 4,
   "metadata": {},
   "outputs": [
    {
     "data": {
      "text/html": [
       "<div>\n",
       "<style scoped>\n",
       "    .dataframe tbody tr th:only-of-type {\n",
       "        vertical-align: middle;\n",
       "    }\n",
       "\n",
       "    .dataframe tbody tr th {\n",
       "        vertical-align: top;\n",
       "    }\n",
       "\n",
       "    .dataframe thead th {\n",
       "        text-align: right;\n",
       "    }\n",
       "</style>\n",
       "<table border=\"1\" class=\"dataframe\">\n",
       "  <thead>\n",
       "    <tr style=\"text-align: right;\">\n",
       "      <th></th>\n",
       "      <th>id</th>\n",
       "      <th>date</th>\n",
       "      <th>price</th>\n",
       "      <th>bedrooms</th>\n",
       "      <th>bathrooms</th>\n",
       "      <th>sqft_living</th>\n",
       "      <th>sqft_lot</th>\n",
       "      <th>floors</th>\n",
       "      <th>waterfront</th>\n",
       "      <th>view</th>\n",
       "      <th>...</th>\n",
       "      <th>grade</th>\n",
       "      <th>sqft_above</th>\n",
       "      <th>sqft_basement</th>\n",
       "      <th>yr_built</th>\n",
       "      <th>yr_renovated</th>\n",
       "      <th>zipcode</th>\n",
       "      <th>lat</th>\n",
       "      <th>long</th>\n",
       "      <th>sqft_living15</th>\n",
       "      <th>sqft_lot15</th>\n",
       "    </tr>\n",
       "  </thead>\n",
       "  <tbody>\n",
       "    <tr>\n",
       "      <th>0</th>\n",
       "      <td>7129300520</td>\n",
       "      <td>20141013T000000</td>\n",
       "      <td>221900.0</td>\n",
       "      <td>3</td>\n",
       "      <td>1.00</td>\n",
       "      <td>1180</td>\n",
       "      <td>5650</td>\n",
       "      <td>1.0</td>\n",
       "      <td>0</td>\n",
       "      <td>0</td>\n",
       "      <td>...</td>\n",
       "      <td>7</td>\n",
       "      <td>1180</td>\n",
       "      <td>0</td>\n",
       "      <td>1955</td>\n",
       "      <td>0</td>\n",
       "      <td>98178</td>\n",
       "      <td>47.5112</td>\n",
       "      <td>-122.257</td>\n",
       "      <td>1340</td>\n",
       "      <td>5650</td>\n",
       "    </tr>\n",
       "    <tr>\n",
       "      <th>1</th>\n",
       "      <td>6414100192</td>\n",
       "      <td>20141209T000000</td>\n",
       "      <td>538000.0</td>\n",
       "      <td>3</td>\n",
       "      <td>2.25</td>\n",
       "      <td>2570</td>\n",
       "      <td>7242</td>\n",
       "      <td>2.0</td>\n",
       "      <td>0</td>\n",
       "      <td>0</td>\n",
       "      <td>...</td>\n",
       "      <td>7</td>\n",
       "      <td>2170</td>\n",
       "      <td>400</td>\n",
       "      <td>1951</td>\n",
       "      <td>1991</td>\n",
       "      <td>98125</td>\n",
       "      <td>47.7210</td>\n",
       "      <td>-122.319</td>\n",
       "      <td>1690</td>\n",
       "      <td>7639</td>\n",
       "    </tr>\n",
       "    <tr>\n",
       "      <th>2</th>\n",
       "      <td>5631500400</td>\n",
       "      <td>20150225T000000</td>\n",
       "      <td>180000.0</td>\n",
       "      <td>2</td>\n",
       "      <td>1.00</td>\n",
       "      <td>770</td>\n",
       "      <td>10000</td>\n",
       "      <td>1.0</td>\n",
       "      <td>0</td>\n",
       "      <td>0</td>\n",
       "      <td>...</td>\n",
       "      <td>6</td>\n",
       "      <td>770</td>\n",
       "      <td>0</td>\n",
       "      <td>1933</td>\n",
       "      <td>0</td>\n",
       "      <td>98028</td>\n",
       "      <td>47.7379</td>\n",
       "      <td>-122.233</td>\n",
       "      <td>2720</td>\n",
       "      <td>8062</td>\n",
       "    </tr>\n",
       "    <tr>\n",
       "      <th>3</th>\n",
       "      <td>2487200875</td>\n",
       "      <td>20141209T000000</td>\n",
       "      <td>604000.0</td>\n",
       "      <td>4</td>\n",
       "      <td>3.00</td>\n",
       "      <td>1960</td>\n",
       "      <td>5000</td>\n",
       "      <td>1.0</td>\n",
       "      <td>0</td>\n",
       "      <td>0</td>\n",
       "      <td>...</td>\n",
       "      <td>7</td>\n",
       "      <td>1050</td>\n",
       "      <td>910</td>\n",
       "      <td>1965</td>\n",
       "      <td>0</td>\n",
       "      <td>98136</td>\n",
       "      <td>47.5208</td>\n",
       "      <td>-122.393</td>\n",
       "      <td>1360</td>\n",
       "      <td>5000</td>\n",
       "    </tr>\n",
       "    <tr>\n",
       "      <th>4</th>\n",
       "      <td>1954400510</td>\n",
       "      <td>20150218T000000</td>\n",
       "      <td>510000.0</td>\n",
       "      <td>3</td>\n",
       "      <td>2.00</td>\n",
       "      <td>1680</td>\n",
       "      <td>8080</td>\n",
       "      <td>1.0</td>\n",
       "      <td>0</td>\n",
       "      <td>0</td>\n",
       "      <td>...</td>\n",
       "      <td>8</td>\n",
       "      <td>1680</td>\n",
       "      <td>0</td>\n",
       "      <td>1987</td>\n",
       "      <td>0</td>\n",
       "      <td>98074</td>\n",
       "      <td>47.6168</td>\n",
       "      <td>-122.045</td>\n",
       "      <td>1800</td>\n",
       "      <td>7503</td>\n",
       "    </tr>\n",
       "  </tbody>\n",
       "</table>\n",
       "<p>5 rows × 21 columns</p>\n",
       "</div>"
      ],
      "text/plain": [
       "           id             date     price  bedrooms  bathrooms  sqft_living  \\\n",
       "0  7129300520  20141013T000000  221900.0         3       1.00         1180   \n",
       "1  6414100192  20141209T000000  538000.0         3       2.25         2570   \n",
       "2  5631500400  20150225T000000  180000.0         2       1.00          770   \n",
       "3  2487200875  20141209T000000  604000.0         4       3.00         1960   \n",
       "4  1954400510  20150218T000000  510000.0         3       2.00         1680   \n",
       "\n",
       "   sqft_lot  floors  waterfront  view  ...  grade  sqft_above  sqft_basement  \\\n",
       "0      5650     1.0           0     0  ...      7        1180              0   \n",
       "1      7242     2.0           0     0  ...      7        2170            400   \n",
       "2     10000     1.0           0     0  ...      6         770              0   \n",
       "3      5000     1.0           0     0  ...      7        1050            910   \n",
       "4      8080     1.0           0     0  ...      8        1680              0   \n",
       "\n",
       "   yr_built  yr_renovated  zipcode      lat     long  sqft_living15  \\\n",
       "0      1955             0    98178  47.5112 -122.257           1340   \n",
       "1      1951          1991    98125  47.7210 -122.319           1690   \n",
       "2      1933             0    98028  47.7379 -122.233           2720   \n",
       "3      1965             0    98136  47.5208 -122.393           1360   \n",
       "4      1987             0    98074  47.6168 -122.045           1800   \n",
       "\n",
       "   sqft_lot15  \n",
       "0        5650  \n",
       "1        7639  \n",
       "2        8062  \n",
       "3        5000  \n",
       "4        7503  \n",
       "\n",
       "[5 rows x 21 columns]"
      ]
     },
     "execution_count": 4,
     "metadata": {},
     "output_type": "execute_result"
    }
   ],
   "source": [
    "db.head()"
   ]
  },
  {
   "cell_type": "code",
   "execution_count": 5,
   "metadata": {},
   "outputs": [],
   "source": [
    "x = db.iloc[:, 5].values\n",
    "x = x.reshape(-1, 1)"
   ]
  },
  {
   "cell_type": "code",
   "execution_count": 6,
   "metadata": {},
   "outputs": [
    {
     "data": {
      "text/plain": [
       "(21613, 1)"
      ]
     },
     "execution_count": 6,
     "metadata": {},
     "output_type": "execute_result"
    }
   ],
   "source": [
    "x.shape"
   ]
  },
  {
   "cell_type": "code",
   "execution_count": 7,
   "metadata": {},
   "outputs": [
    {
     "data": {
      "text/plain": [
       "array([[1180],\n",
       "       [2570],\n",
       "       [ 770],\n",
       "       ...,\n",
       "       [1020],\n",
       "       [1600],\n",
       "       [1020]])"
      ]
     },
     "execution_count": 7,
     "metadata": {},
     "output_type": "execute_result"
    }
   ],
   "source": [
    "x"
   ]
  },
  {
   "cell_type": "code",
   "execution_count": 8,
   "metadata": {},
   "outputs": [],
   "source": [
    "y = db.iloc[:, 2:3].values"
   ]
  },
  {
   "cell_type": "code",
   "execution_count": 9,
   "metadata": {},
   "outputs": [
    {
     "data": {
      "text/plain": [
       "(21613, 1)"
      ]
     },
     "execution_count": 9,
     "metadata": {},
     "output_type": "execute_result"
    }
   ],
   "source": [
    "y.shape"
   ]
  },
  {
   "cell_type": "code",
   "execution_count": 10,
   "metadata": {},
   "outputs": [],
   "source": [
    "from sklearn.preprocessing import StandardScaler\n",
    "scaler_x = StandardScaler()\n",
    "x = scaler_x.fit_transform(x)\n",
    "scaler_y = StandardScaler()\n",
    "y = scaler_y.fit_transform(y)"
   ]
  },
  {
   "cell_type": "code",
   "execution_count": 11,
   "metadata": {},
   "outputs": [
    {
     "data": {
      "text/plain": [
       "array([[-0.97983502],\n",
       "       [ 0.53363434],\n",
       "       [-1.42625404],\n",
       "       ...,\n",
       "       [-1.15404732],\n",
       "       [-0.52252773],\n",
       "       [-1.15404732]])"
      ]
     },
     "execution_count": 11,
     "metadata": {},
     "output_type": "execute_result"
    }
   ],
   "source": [
    "x"
   ]
  },
  {
   "cell_type": "code",
   "execution_count": 12,
   "metadata": {},
   "outputs": [
    {
     "data": {
      "text/plain": [
       "array([[-0.86671733],\n",
       "       [-0.00568792],\n",
       "       [-0.98084935],\n",
       "       ...,\n",
       "       [-0.37586519],\n",
       "       [-0.38158814],\n",
       "       [-0.58588173]])"
      ]
     },
     "execution_count": 12,
     "metadata": {},
     "output_type": "execute_result"
    }
   ],
   "source": [
    "y"
   ]
  },
  {
   "cell_type": "code",
   "execution_count": 14,
   "metadata": {},
   "outputs": [],
   "source": [
    "import tensorflow.compat.v1 as tf\n",
    "tf.disable_v2_behavior()"
   ]
  },
  {
   "cell_type": "code",
   "execution_count": 17,
   "metadata": {},
   "outputs": [],
   "source": [
    "colunas = [tf.feature_column.numeric_column('x', shape = [1])]"
   ]
  },
  {
   "cell_type": "code",
   "execution_count": 18,
   "metadata": {},
   "outputs": [
    {
     "data": {
      "text/plain": [
       "[NumericColumn(key='x', shape=(1,), default_value=None, dtype=tf.float32, normalizer_fn=None)]"
      ]
     },
     "execution_count": 18,
     "metadata": {},
     "output_type": "execute_result"
    }
   ],
   "source": [
    "colunas"
   ]
  },
  {
   "cell_type": "code",
   "execution_count": 20,
   "metadata": {
    "scrolled": true
   },
   "outputs": [
    {
     "name": "stdout",
     "output_type": "stream",
     "text": [
      "INFO:tensorflow:Using default config.\n",
      "WARNING:tensorflow:Using temporary folder as model directory: /tmp/tmpgl9ed4lo\n",
      "INFO:tensorflow:Using config: {'_model_dir': '/tmp/tmpgl9ed4lo', '_tf_random_seed': None, '_save_summary_steps': 100, '_save_checkpoints_steps': None, '_save_checkpoints_secs': 600, '_session_config': allow_soft_placement: true\n",
      "graph_options {\n",
      "  rewrite_options {\n",
      "    meta_optimizer_iterations: ONE\n",
      "  }\n",
      "}\n",
      ", '_keep_checkpoint_max': 5, '_keep_checkpoint_every_n_hours': 10000, '_log_step_count_steps': 100, '_train_distribute': None, '_device_fn': None, '_protocol': None, '_eval_distribute': None, '_experimental_distribute': None, '_experimental_max_worker_delay_secs': None, '_session_creation_timeout_secs': 7200, '_service': None, '_cluster_spec': ClusterSpec({}), '_task_type': 'worker', '_task_id': 0, '_global_id_in_cluster': 0, '_master': '', '_evaluation_master': '', '_is_chief': True, '_num_ps_replicas': 0, '_num_worker_replicas': 1}\n"
     ]
    }
   ],
   "source": [
    "regressor = tf.estimator.LinearRegressor(feature_columns = colunas)"
   ]
  },
  {
   "cell_type": "code",
   "execution_count": 22,
   "metadata": {},
   "outputs": [],
   "source": [
    "from sklearn.model_selection import train_test_split"
   ]
  },
  {
   "cell_type": "code",
   "execution_count": 30,
   "metadata": {},
   "outputs": [],
   "source": [
    "xTreinamento, xTeste, yTreinamento, yTeste = train_test_split(x, y, test_size = 0.3)"
   ]
  },
  {
   "cell_type": "code",
   "execution_count": 31,
   "metadata": {},
   "outputs": [
    {
     "data": {
      "text/plain": [
       "(15129, 1)"
      ]
     },
     "execution_count": 31,
     "metadata": {},
     "output_type": "execute_result"
    }
   ],
   "source": [
    "xTreinamento.shape"
   ]
  },
  {
   "cell_type": "code",
   "execution_count": 32,
   "metadata": {},
   "outputs": [
    {
     "data": {
      "text/plain": [
       "(15129, 1)"
      ]
     },
     "execution_count": 32,
     "metadata": {},
     "output_type": "execute_result"
    }
   ],
   "source": [
    "yTreinamento.shape"
   ]
  },
  {
   "cell_type": "code",
   "execution_count": 33,
   "metadata": {},
   "outputs": [
    {
     "data": {
      "text/plain": [
       "(6484, 1)"
      ]
     },
     "execution_count": 33,
     "metadata": {},
     "output_type": "execute_result"
    }
   ],
   "source": [
    "xTeste.shape"
   ]
  },
  {
   "cell_type": "code",
   "execution_count": 34,
   "metadata": {},
   "outputs": [
    {
     "data": {
      "text/plain": [
       "(6484, 1)"
      ]
     },
     "execution_count": 34,
     "metadata": {},
     "output_type": "execute_result"
    }
   ],
   "source": [
    "yTeste.shape"
   ]
  },
  {
   "cell_type": "code",
   "execution_count": 39,
   "metadata": {},
   "outputs": [],
   "source": [
    "funcaoTreinamento = tf.estimator.inputs.numpy_input_fn({ 'x': xTreinamento }, yTreinamento, batch_size = 32, \n",
    "                                                               num_epochs = None, shuffle = True)"
   ]
  },
  {
   "cell_type": "code",
   "execution_count": 40,
   "metadata": {},
   "outputs": [],
   "source": [
    "funcaoTeste = tf.estimator.inputs.numpy_input_fn({ 'x' : xTeste }, yTeste, batch_size = 32, \n",
    "                                                             num_epochs = 1000, shuffle = False)"
   ]
  },
  {
   "cell_type": "code",
   "execution_count": 41,
   "metadata": {},
   "outputs": [
    {
     "name": "stdout",
     "output_type": "stream",
     "text": [
      "INFO:tensorflow:Calling model_fn.\n",
      "INFO:tensorflow:Done calling model_fn.\n",
      "INFO:tensorflow:Create CheckpointSaverHook.\n",
      "INFO:tensorflow:Graph was finalized.\n",
      "INFO:tensorflow:Running local_init_op.\n",
      "INFO:tensorflow:Done running local_init_op.\n",
      "WARNING:tensorflow:From /home/thallesgremi/anaconda3/envs/course_tf/lib/python3.7/site-packages/tensorflow_core/python/training/monitored_session.py:906: start_queue_runners (from tensorflow.python.training.queue_runner_impl) is deprecated and will be removed in a future version.\n",
      "Instructions for updating:\n",
      "To construct input pipelines, use the `tf.data` module.\n",
      "INFO:tensorflow:Saving checkpoints for 0 into /tmp/tmpgl9ed4lo/model.ckpt.\n",
      "INFO:tensorflow:loss = 20.711243, step = 1\n",
      "INFO:tensorflow:global_step/sec: 188.898\n",
      "INFO:tensorflow:loss = 20.389648, step = 101 (0.531 sec)\n",
      "INFO:tensorflow:global_step/sec: 412.611\n",
      "INFO:tensorflow:loss = 8.992428, step = 201 (0.242 sec)\n",
      "INFO:tensorflow:global_step/sec: 320.224\n",
      "INFO:tensorflow:loss = 15.661781, step = 301 (0.312 sec)\n",
      "WARNING:tensorflow:It seems that global step (tf.train.get_global_step) has not been increased. Current value (could be stable): 353 vs previous value: 353. You could increase the global step by passing tf.train.get_global_step() to Optimizer.apply_gradients or Optimizer.minimize.\n",
      "INFO:tensorflow:global_step/sec: 305.187\n",
      "INFO:tensorflow:loss = 13.870009, step = 401 (0.328 sec)\n",
      "INFO:tensorflow:global_step/sec: 431.461\n",
      "INFO:tensorflow:loss = 9.20602, step = 501 (0.232 sec)\n",
      "INFO:tensorflow:global_step/sec: 345.635\n",
      "INFO:tensorflow:loss = 11.04114, step = 601 (0.289 sec)\n",
      "INFO:tensorflow:global_step/sec: 311.068\n",
      "INFO:tensorflow:loss = 13.48084, step = 701 (0.321 sec)\n",
      "INFO:tensorflow:global_step/sec: 345.686\n",
      "INFO:tensorflow:loss = 17.943655, step = 801 (0.291 sec)\n",
      "WARNING:tensorflow:It seems that global step (tf.train.get_global_step) has not been increased. Current value (could be stable): 813 vs previous value: 813. You could increase the global step by passing tf.train.get_global_step() to Optimizer.apply_gradients or Optimizer.minimize.\n",
      "WARNING:tensorflow:It seems that global step (tf.train.get_global_step) has not been increased. Current value (could be stable): 820 vs previous value: 820. You could increase the global step by passing tf.train.get_global_step() to Optimizer.apply_gradients or Optimizer.minimize.\n",
      "WARNING:tensorflow:It seems that global step (tf.train.get_global_step) has not been increased. Current value (could be stable): 840 vs previous value: 840. You could increase the global step by passing tf.train.get_global_step() to Optimizer.apply_gradients or Optimizer.minimize.\n",
      "WARNING:tensorflow:It seems that global step (tf.train.get_global_step) has not been increased. Current value (could be stable): 849 vs previous value: 849. You could increase the global step by passing tf.train.get_global_step() to Optimizer.apply_gradients or Optimizer.minimize.\n",
      "INFO:tensorflow:global_step/sec: 243.65\n",
      "INFO:tensorflow:loss = 13.696843, step = 901 (0.412 sec)\n",
      "INFO:tensorflow:global_step/sec: 373.222\n",
      "INFO:tensorflow:loss = 9.883697, step = 1001 (0.268 sec)\n",
      "INFO:tensorflow:global_step/sec: 279.568\n",
      "INFO:tensorflow:loss = 6.6382523, step = 1101 (0.359 sec)\n",
      "INFO:tensorflow:global_step/sec: 276.959\n",
      "INFO:tensorflow:loss = 42.693474, step = 1201 (0.359 sec)\n",
      "INFO:tensorflow:global_step/sec: 299.769\n",
      "INFO:tensorflow:loss = 7.7603683, step = 1301 (0.334 sec)\n",
      "INFO:tensorflow:global_step/sec: 292.26\n",
      "INFO:tensorflow:loss = 25.768024, step = 1401 (0.342 sec)\n",
      "INFO:tensorflow:global_step/sec: 308.864\n",
      "INFO:tensorflow:loss = 8.480052, step = 1501 (0.324 sec)\n",
      "INFO:tensorflow:global_step/sec: 330.435\n",
      "INFO:tensorflow:loss = 17.3397, step = 1601 (0.303 sec)\n",
      "INFO:tensorflow:global_step/sec: 275.243\n",
      "INFO:tensorflow:loss = 145.41487, step = 1701 (0.360 sec)\n",
      "INFO:tensorflow:global_step/sec: 324.894\n",
      "INFO:tensorflow:loss = 50.678345, step = 1801 (0.309 sec)\n",
      "INFO:tensorflow:global_step/sec: 381.85\n",
      "INFO:tensorflow:loss = 13.122489, step = 1901 (0.260 sec)\n",
      "INFO:tensorflow:global_step/sec: 277.194\n",
      "INFO:tensorflow:loss = 7.6595755, step = 2001 (0.361 sec)\n",
      "INFO:tensorflow:global_step/sec: 242.362\n",
      "INFO:tensorflow:loss = 12.69924, step = 2101 (0.419 sec)\n",
      "INFO:tensorflow:global_step/sec: 282.662\n",
      "INFO:tensorflow:loss = 13.83759, step = 2201 (0.350 sec)\n",
      "INFO:tensorflow:global_step/sec: 339.204\n",
      "INFO:tensorflow:loss = 4.8638096, step = 2301 (0.295 sec)\n",
      "INFO:tensorflow:global_step/sec: 214.665\n",
      "INFO:tensorflow:loss = 14.465245, step = 2401 (0.467 sec)\n",
      "INFO:tensorflow:global_step/sec: 283.257\n",
      "INFO:tensorflow:loss = 9.243676, step = 2501 (0.352 sec)\n",
      "INFO:tensorflow:global_step/sec: 466.118\n",
      "INFO:tensorflow:loss = 4.968787, step = 2601 (0.213 sec)\n",
      "INFO:tensorflow:global_step/sec: 333.308\n",
      "INFO:tensorflow:loss = 17.769072, step = 2701 (0.317 sec)\n",
      "INFO:tensorflow:global_step/sec: 401.223\n",
      "INFO:tensorflow:loss = 9.201094, step = 2801 (0.234 sec)\n",
      "INFO:tensorflow:global_step/sec: 404.402\n",
      "INFO:tensorflow:loss = 11.332323, step = 2901 (0.271 sec)\n",
      "INFO:tensorflow:global_step/sec: 360.863\n",
      "INFO:tensorflow:loss = 13.150735, step = 3001 (0.275 sec)\n",
      "INFO:tensorflow:global_step/sec: 280.829\n",
      "INFO:tensorflow:loss = 19.245075, step = 3101 (0.355 sec)\n",
      "INFO:tensorflow:global_step/sec: 332.611\n",
      "INFO:tensorflow:loss = 8.282019, step = 3201 (0.292 sec)\n",
      "INFO:tensorflow:global_step/sec: 218.171\n",
      "INFO:tensorflow:loss = 9.181216, step = 3301 (0.451 sec)\n",
      "INFO:tensorflow:global_step/sec: 214.259\n",
      "INFO:tensorflow:loss = 7.777973, step = 3401 (0.480 sec)\n",
      "INFO:tensorflow:global_step/sec: 148.635\n",
      "INFO:tensorflow:loss = 9.990291, step = 3501 (0.671 sec)\n",
      "INFO:tensorflow:global_step/sec: 167.491\n",
      "INFO:tensorflow:loss = 12.31224, step = 3601 (0.583 sec)\n",
      "INFO:tensorflow:global_step/sec: 177.571\n",
      "INFO:tensorflow:loss = 7.761403, step = 3701 (0.560 sec)\n",
      "INFO:tensorflow:global_step/sec: 238.896\n",
      "INFO:tensorflow:loss = 19.781096, step = 3801 (0.419 sec)\n",
      "INFO:tensorflow:global_step/sec: 214.655\n",
      "INFO:tensorflow:loss = 24.087624, step = 3901 (0.466 sec)\n",
      "INFO:tensorflow:global_step/sec: 185.116\n",
      "INFO:tensorflow:loss = 7.3112526, step = 4001 (0.546 sec)\n",
      "INFO:tensorflow:global_step/sec: 238.278\n",
      "INFO:tensorflow:loss = 25.446037, step = 4101 (0.416 sec)\n",
      "INFO:tensorflow:global_step/sec: 282.32\n",
      "INFO:tensorflow:loss = 19.90554, step = 4201 (0.384 sec)\n",
      "INFO:tensorflow:global_step/sec: 203.222\n",
      "INFO:tensorflow:loss = 8.551506, step = 4301 (0.480 sec)\n",
      "INFO:tensorflow:global_step/sec: 206.45\n",
      "INFO:tensorflow:loss = 13.053792, step = 4401 (0.473 sec)\n",
      "INFO:tensorflow:global_step/sec: 245.111\n",
      "INFO:tensorflow:loss = 13.846285, step = 4501 (0.400 sec)\n",
      "INFO:tensorflow:global_step/sec: 71.5612\n",
      "INFO:tensorflow:loss = 27.557335, step = 4601 (1.397 sec)\n",
      "INFO:tensorflow:global_step/sec: 124.738\n",
      "INFO:tensorflow:loss = 10.978907, step = 4701 (0.810 sec)\n",
      "INFO:tensorflow:global_step/sec: 132.667\n",
      "INFO:tensorflow:loss = 8.44825, step = 4801 (0.750 sec)\n",
      "INFO:tensorflow:global_step/sec: 160.274\n",
      "INFO:tensorflow:loss = 7.795093, step = 4901 (0.619 sec)\n",
      "INFO:tensorflow:global_step/sec: 240.312\n",
      "INFO:tensorflow:loss = 7.297871, step = 5001 (0.417 sec)\n",
      "INFO:tensorflow:global_step/sec: 245.77\n",
      "INFO:tensorflow:loss = 11.244219, step = 5101 (0.411 sec)\n",
      "INFO:tensorflow:global_step/sec: 138.166\n",
      "INFO:tensorflow:loss = 19.981415, step = 5201 (0.723 sec)\n",
      "INFO:tensorflow:global_step/sec: 221.627\n",
      "INFO:tensorflow:loss = 11.280444, step = 5301 (0.455 sec)\n",
      "INFO:tensorflow:global_step/sec: 169.907\n",
      "INFO:tensorflow:loss = 8.786478, step = 5401 (0.587 sec)\n",
      "INFO:tensorflow:global_step/sec: 216.335\n",
      "INFO:tensorflow:loss = 35.768375, step = 5501 (0.456 sec)\n",
      "INFO:tensorflow:global_step/sec: 372.465\n",
      "INFO:tensorflow:loss = 13.719336, step = 5601 (0.273 sec)\n",
      "INFO:tensorflow:global_step/sec: 215.767\n",
      "INFO:tensorflow:loss = 17.82519, step = 5701 (0.463 sec)\n",
      "INFO:tensorflow:global_step/sec: 239.785\n",
      "INFO:tensorflow:loss = 9.356972, step = 5801 (0.417 sec)\n",
      "INFO:tensorflow:global_step/sec: 182.909\n",
      "INFO:tensorflow:loss = 25.513918, step = 5901 (0.549 sec)\n",
      "INFO:tensorflow:global_step/sec: 222.148\n",
      "INFO:tensorflow:loss = 10.974607, step = 6001 (0.448 sec)\n",
      "INFO:tensorflow:global_step/sec: 187.671\n",
      "INFO:tensorflow:loss = 11.143536, step = 6101 (0.535 sec)\n",
      "INFO:tensorflow:global_step/sec: 252.926\n",
      "INFO:tensorflow:loss = 7.857153, step = 6201 (0.411 sec)\n"
     ]
    },
    {
     "name": "stdout",
     "output_type": "stream",
     "text": [
      "INFO:tensorflow:global_step/sec: 302.67\n",
      "INFO:tensorflow:loss = 41.440285, step = 6301 (0.320 sec)\n",
      "INFO:tensorflow:global_step/sec: 234.826\n",
      "INFO:tensorflow:loss = 10.883184, step = 6401 (0.415 sec)\n",
      "INFO:tensorflow:global_step/sec: 160.233\n",
      "INFO:tensorflow:loss = 12.393614, step = 6501 (0.626 sec)\n",
      "INFO:tensorflow:global_step/sec: 159.95\n",
      "INFO:tensorflow:loss = 4.8079376, step = 6601 (0.624 sec)\n",
      "INFO:tensorflow:global_step/sec: 226.718\n",
      "INFO:tensorflow:loss = 18.27128, step = 6701 (0.441 sec)\n",
      "INFO:tensorflow:global_step/sec: 300.086\n",
      "INFO:tensorflow:loss = 17.861553, step = 6801 (0.333 sec)\n",
      "INFO:tensorflow:global_step/sec: 271.583\n",
      "INFO:tensorflow:loss = 42.126633, step = 6901 (0.368 sec)\n",
      "INFO:tensorflow:global_step/sec: 292.1\n",
      "INFO:tensorflow:loss = 7.5224953, step = 7001 (0.342 sec)\n",
      "INFO:tensorflow:global_step/sec: 293.649\n",
      "INFO:tensorflow:loss = 11.792968, step = 7101 (0.342 sec)\n",
      "INFO:tensorflow:global_step/sec: 262.865\n",
      "INFO:tensorflow:loss = 20.902525, step = 7201 (0.379 sec)\n",
      "INFO:tensorflow:global_step/sec: 255.479\n",
      "INFO:tensorflow:loss = 8.110252, step = 7301 (0.391 sec)\n",
      "INFO:tensorflow:global_step/sec: 373.789\n",
      "INFO:tensorflow:loss = 7.9086804, step = 7401 (0.267 sec)\n",
      "INFO:tensorflow:global_step/sec: 217.559\n",
      "INFO:tensorflow:loss = 18.63179, step = 7501 (0.460 sec)\n",
      "INFO:tensorflow:global_step/sec: 316.422\n",
      "INFO:tensorflow:loss = 34.973743, step = 7601 (0.316 sec)\n",
      "INFO:tensorflow:global_step/sec: 314.905\n",
      "INFO:tensorflow:loss = 13.705812, step = 7701 (0.321 sec)\n",
      "INFO:tensorflow:global_step/sec: 356.872\n",
      "INFO:tensorflow:loss = 26.144196, step = 7801 (0.280 sec)\n",
      "INFO:tensorflow:global_step/sec: 289.707\n",
      "INFO:tensorflow:loss = 15.641668, step = 7901 (0.342 sec)\n",
      "INFO:tensorflow:global_step/sec: 280.599\n",
      "INFO:tensorflow:loss = 6.6614304, step = 8001 (0.356 sec)\n",
      "INFO:tensorflow:global_step/sec: 378.925\n",
      "INFO:tensorflow:loss = 12.170876, step = 8101 (0.266 sec)\n",
      "INFO:tensorflow:global_step/sec: 359.026\n",
      "INFO:tensorflow:loss = 15.440976, step = 8201 (0.292 sec)\n",
      "INFO:tensorflow:global_step/sec: 373.91\n",
      "INFO:tensorflow:loss = 6.3342123, step = 8301 (0.255 sec)\n",
      "INFO:tensorflow:global_step/sec: 400.064\n",
      "INFO:tensorflow:loss = 20.229136, step = 8401 (0.249 sec)\n",
      "INFO:tensorflow:global_step/sec: 407.687\n",
      "INFO:tensorflow:loss = 12.366492, step = 8501 (0.245 sec)\n",
      "INFO:tensorflow:global_step/sec: 371.291\n",
      "INFO:tensorflow:loss = 7.3541784, step = 8601 (0.285 sec)\n",
      "INFO:tensorflow:global_step/sec: 302.026\n",
      "INFO:tensorflow:loss = 7.369, step = 8701 (0.316 sec)\n",
      "INFO:tensorflow:global_step/sec: 360.722\n",
      "INFO:tensorflow:loss = 12.019344, step = 8801 (0.276 sec)\n",
      "INFO:tensorflow:global_step/sec: 441.195\n",
      "INFO:tensorflow:loss = 12.804728, step = 8901 (0.227 sec)\n",
      "INFO:tensorflow:global_step/sec: 326.193\n",
      "INFO:tensorflow:loss = 6.938801, step = 9001 (0.306 sec)\n",
      "INFO:tensorflow:global_step/sec: 354.473\n",
      "INFO:tensorflow:loss = 10.331719, step = 9101 (0.282 sec)\n",
      "INFO:tensorflow:global_step/sec: 331.033\n",
      "INFO:tensorflow:loss = 31.05962, step = 9201 (0.301 sec)\n",
      "INFO:tensorflow:global_step/sec: 363.79\n",
      "INFO:tensorflow:loss = 24.13063, step = 9301 (0.277 sec)\n",
      "INFO:tensorflow:global_step/sec: 275.869\n",
      "INFO:tensorflow:loss = 19.478306, step = 9401 (0.363 sec)\n",
      "INFO:tensorflow:global_step/sec: 361.03\n",
      "INFO:tensorflow:loss = 20.700815, step = 9501 (0.277 sec)\n",
      "INFO:tensorflow:global_step/sec: 351.298\n",
      "INFO:tensorflow:loss = 13.930244, step = 9601 (0.284 sec)\n",
      "INFO:tensorflow:global_step/sec: 422.533\n",
      "INFO:tensorflow:loss = 4.8487587, step = 9701 (0.237 sec)\n",
      "INFO:tensorflow:global_step/sec: 407.658\n",
      "INFO:tensorflow:loss = 26.071922, step = 9801 (0.246 sec)\n",
      "INFO:tensorflow:global_step/sec: 305.413\n",
      "INFO:tensorflow:loss = 10.086277, step = 9901 (0.327 sec)\n",
      "INFO:tensorflow:Saving checkpoints for 10000 into /tmp/tmpgl9ed4lo/model.ckpt.\n",
      "INFO:tensorflow:Loss for final step: 32.49863.\n"
     ]
    },
    {
     "data": {
      "text/plain": [
       "<tensorflow_estimator.python.estimator.canned.linear.LinearRegressor at 0x7f23b76306d0>"
      ]
     },
     "execution_count": 41,
     "metadata": {},
     "output_type": "execute_result"
    }
   ],
   "source": [
    "regressor.train(input_fn = funcaoTreinamento, steps = 10000)"
   ]
  },
  {
   "cell_type": "code",
   "execution_count": 42,
   "metadata": {},
   "outputs": [
    {
     "name": "stdout",
     "output_type": "stream",
     "text": [
      "INFO:tensorflow:Calling model_fn.\n",
      "INFO:tensorflow:Done calling model_fn.\n",
      "INFO:tensorflow:Starting evaluation at 2020-05-22T15:27:35Z\n",
      "INFO:tensorflow:Graph was finalized.\n",
      "INFO:tensorflow:Restoring parameters from /tmp/tmpgl9ed4lo/model.ckpt-10000\n",
      "INFO:tensorflow:Running local_init_op.\n",
      "INFO:tensorflow:Done running local_init_op.\n",
      "INFO:tensorflow:Evaluation [1000/10000]\n",
      "INFO:tensorflow:Evaluation [2000/10000]\n",
      "INFO:tensorflow:Evaluation [3000/10000]\n",
      "INFO:tensorflow:Evaluation [4000/10000]\n",
      "INFO:tensorflow:Evaluation [5000/10000]\n",
      "INFO:tensorflow:Evaluation [6000/10000]\n",
      "INFO:tensorflow:Evaluation [7000/10000]\n",
      "INFO:tensorflow:Evaluation [8000/10000]\n",
      "INFO:tensorflow:Evaluation [9000/10000]\n",
      "INFO:tensorflow:Evaluation [10000/10000]\n",
      "INFO:tensorflow:Inference Time : 18.39039s\n",
      "INFO:tensorflow:Finished evaluation at 2020-05-22-15:27:54\n",
      "INFO:tensorflow:Saving dict for global step 10000: average_loss = 0.49577832, global_step = 10000, label/mean = -0.002310653, loss = 15.864906, prediction/mean = 0.0035193784\n",
      "INFO:tensorflow:Saving 'checkpoint_path' summary for global step 10000: /tmp/tmpgl9ed4lo/model.ckpt-10000\n"
     ]
    }
   ],
   "source": [
    "metricasTreinamento = regressor.evaluate(input_fn = funcaoTreinamento, steps = 10000)"
   ]
  },
  {
   "cell_type": "code",
   "execution_count": 43,
   "metadata": {},
   "outputs": [
    {
     "name": "stdout",
     "output_type": "stream",
     "text": [
      "INFO:tensorflow:Calling model_fn.\n",
      "INFO:tensorflow:Done calling model_fn.\n",
      "INFO:tensorflow:Starting evaluation at 2020-05-22T15:29:46Z\n",
      "INFO:tensorflow:Graph was finalized.\n",
      "INFO:tensorflow:Restoring parameters from /tmp/tmpgl9ed4lo/model.ckpt-10000\n",
      "INFO:tensorflow:Running local_init_op.\n",
      "INFO:tensorflow:Done running local_init_op.\n",
      "INFO:tensorflow:Evaluation [1000/10000]\n",
      "INFO:tensorflow:Evaluation [2000/10000]\n",
      "INFO:tensorflow:Evaluation [3000/10000]\n",
      "INFO:tensorflow:Evaluation [4000/10000]\n",
      "INFO:tensorflow:Evaluation [5000/10000]\n",
      "INFO:tensorflow:Evaluation [6000/10000]\n",
      "INFO:tensorflow:Evaluation [7000/10000]\n",
      "INFO:tensorflow:Evaluation [8000/10000]\n",
      "INFO:tensorflow:Evaluation [9000/10000]\n",
      "INFO:tensorflow:Evaluation [10000/10000]\n",
      "INFO:tensorflow:Inference Time : 21.74050s\n",
      "INFO:tensorflow:Finished evaluation at 2020-05-22-15:30:08\n",
      "INFO:tensorflow:Saving dict for global step 10000: average_loss = 0.53582287, global_step = 10000, label/mean = 0.005822406, loss = 17.146332, prediction/mean = 0.0014888191\n",
      "INFO:tensorflow:Saving 'checkpoint_path' summary for global step 10000: /tmp/tmpgl9ed4lo/model.ckpt-10000\n"
     ]
    }
   ],
   "source": [
    "metricasTeste = regressor.evaluate(input_fn = funcaoTeste, steps = 10000)"
   ]
  },
  {
   "cell_type": "code",
   "execution_count": 44,
   "metadata": {},
   "outputs": [
    {
     "data": {
      "text/plain": [
       "{'average_loss': 0.49577832,\n",
       " 'label/mean': -0.002310653,\n",
       " 'loss': 15.864906,\n",
       " 'prediction/mean': 0.0035193784,\n",
       " 'global_step': 10000}"
      ]
     },
     "execution_count": 44,
     "metadata": {},
     "output_type": "execute_result"
    }
   ],
   "source": [
    "metricasTreinamento"
   ]
  },
  {
   "cell_type": "code",
   "execution_count": 45,
   "metadata": {},
   "outputs": [
    {
     "data": {
      "text/plain": [
       "{'average_loss': 0.53582287,\n",
       " 'label/mean': 0.005822406,\n",
       " 'loss': 17.146332,\n",
       " 'prediction/mean': 0.0014888191,\n",
       " 'global_step': 10000}"
      ]
     },
     "execution_count": 45,
     "metadata": {},
     "output_type": "execute_result"
    }
   ],
   "source": [
    "metricasTeste"
   ]
  },
  {
   "cell_type": "markdown",
   "metadata": {},
   "source": [
    "### Previsões após o modelo treinado\n",
    "\n",
    "_______________________________"
   ]
  },
  {
   "cell_type": "code",
   "execution_count": 48,
   "metadata": {},
   "outputs": [],
   "source": [
    "import numpy as np"
   ]
  },
  {
   "cell_type": "markdown",
   "metadata": {},
   "source": [
    "### Como o modelo foi treinado utilizando como métrica a metragem quadrada da casa, passaremos valores em metros quadrados para ter uma previsão do valor. \n",
    "__________________________________________________________________________________________\n",
    " casaPosicao 0 ---> 800m²<br/>\n",
    " casaPosicao 1 ---> 900m²<br/>\n",
    " casaPosicao 3 ---> 1000m²"
   ]
  },
  {
   "cell_type": "code",
   "execution_count": 49,
   "metadata": {},
   "outputs": [],
   "source": [
    "novasCasas = np.array([[800], [900], [1000]])"
   ]
  },
  {
   "cell_type": "code",
   "execution_count": 50,
   "metadata": {},
   "outputs": [
    {
     "data": {
      "text/plain": [
       "array([[-1.39358923],\n",
       "       [-1.28470655],\n",
       "       [-1.17582386]])"
      ]
     },
     "execution_count": 50,
     "metadata": {},
     "output_type": "execute_result"
    }
   ],
   "source": [
    "novasCasas = scaler_x.transform(novasCasas)\n",
    "novasCasas"
   ]
  },
  {
   "cell_type": "code",
   "execution_count": 51,
   "metadata": {},
   "outputs": [],
   "source": [
    "funcaoPrevisao = tf.estimator.inputs.numpy_input_fn({ 'x': novasCasas }, shuffle = False)"
   ]
  },
  {
   "cell_type": "code",
   "execution_count": 52,
   "metadata": {},
   "outputs": [],
   "source": [
    "previsoes = regressor.predict(input_fn = funcaoPrevisao)"
   ]
  },
  {
   "cell_type": "code",
   "execution_count": 53,
   "metadata": {},
   "outputs": [
    {
     "data": {
      "text/plain": [
       "<generator object Estimator.predict at 0x7f23b2ed20d0>"
      ]
     },
     "execution_count": 53,
     "metadata": {},
     "output_type": "execute_result"
    }
   ],
   "source": [
    "previsoes"
   ]
  },
  {
   "cell_type": "code",
   "execution_count": 54,
   "metadata": {},
   "outputs": [
    {
     "name": "stdout",
     "output_type": "stream",
     "text": [
      "INFO:tensorflow:Calling model_fn.\n",
      "INFO:tensorflow:Done calling model_fn.\n",
      "INFO:tensorflow:Graph was finalized.\n",
      "INFO:tensorflow:Restoring parameters from /tmp/tmpgl9ed4lo/model.ckpt-10000\n",
      "INFO:tensorflow:Running local_init_op.\n",
      "INFO:tensorflow:Done running local_init_op.\n"
     ]
    },
    {
     "data": {
      "text/plain": [
       "[{'predictions': array([-0.9547169], dtype=float32)},\n",
       " {'predictions': array([-0.87989324], dtype=float32)},\n",
       " {'predictions': array([-0.80506945], dtype=float32)}]"
      ]
     },
     "execution_count": 54,
     "metadata": {},
     "output_type": "execute_result"
    }
   ],
   "source": [
    "list(previsoes)"
   ]
  },
  {
   "cell_type": "code",
   "execution_count": 57,
   "metadata": {},
   "outputs": [
    {
     "name": "stdout",
     "output_type": "stream",
     "text": [
      "INFO:tensorflow:Calling model_fn.\n",
      "INFO:tensorflow:Done calling model_fn.\n",
      "INFO:tensorflow:Graph was finalized.\n",
      "INFO:tensorflow:Restoring parameters from /tmp/tmpgl9ed4lo/model.ckpt-10000\n",
      "INFO:tensorflow:Running local_init_op.\n",
      "INFO:tensorflow:Done running local_init_op.\n",
      "[189593.7]\n",
      "[217062.86]\n",
      "[244532.08]\n"
     ]
    }
   ],
   "source": [
    "for p in regressor.predict(input_fn = funcaoPrevisao):\n",
    "    print(scaler_y.inverse_transform(p['predictions']))"
   ]
  }
 ],
 "metadata": {
  "kernelspec": {
   "display_name": "Python 3",
   "language": "python",
   "name": "python3"
  },
  "language_info": {
   "codemirror_mode": {
    "name": "ipython",
    "version": 3
   },
   "file_extension": ".py",
   "mimetype": "text/x-python",
   "name": "python",
   "nbconvert_exporter": "python",
   "pygments_lexer": "ipython3",
   "version": "3.7.7"
  }
 },
 "nbformat": 4,
 "nbformat_minor": 4
}
